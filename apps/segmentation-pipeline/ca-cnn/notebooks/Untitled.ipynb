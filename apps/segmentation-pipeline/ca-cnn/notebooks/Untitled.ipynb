{
 "cells": [
  {
   "cell_type": "code",
   "execution_count": null,
   "metadata": {},
   "outputs": [],
   "source": [
    "import glob\n",
    "import os"
   ]
  },
  {
   "cell_type": "code",
   "execution_count": null,
   "metadata": {},
   "outputs": [],
   "source": [
    "training_path = \"/local-scratch/anmol/data/BRATS2018/for_segmentation/Training/\"\n",
    "testing_path = \"/local-scratch/anmol/data/BRATS2018/for_segmentation/Testing/\""
   ]
  },
  {
   "cell_type": "markdown",
   "metadata": {},
   "source": [
    "## Testing Names"
   ]
  },
  {
   "cell_type": "code",
   "execution_count": null,
   "metadata": {},
   "outputs": [],
   "source": [
    "f_test = open(\"../config18/new/test_names.txt\", 'w')"
   ]
  },
  {
   "cell_type": "code",
   "execution_count": null,
   "metadata": {},
   "outputs": [],
   "source": [
    "all_test = []\n",
    "for i in glob.glob(os.path.join(testing_path, 'HGG', '*')):\n",
    "    filename = \"/\".join(i.split(\"/\")[-2:])\n",
    "    f_test.write(filename + \"\\n\")\n",
    "    print(filename)\n",
    "    all_test.append(filename)\n",
    "f_test.close()"
   ]
  },
  {
   "cell_type": "markdown",
   "metadata": {},
   "source": [
    "## Training Names"
   ]
  },
  {
   "cell_type": "code",
   "execution_count": null,
   "metadata": {},
   "outputs": [],
   "source": [
    "f_train = open(\"../config18/new/train_names.txt\", 'w')"
   ]
  },
  {
   "cell_type": "code",
   "execution_count": null,
   "metadata": {},
   "outputs": [],
   "source": [
    "c = 0\n",
    "for i in glob.glob(os.path.join(training_path, 'HGG', '*')):\n",
    "    filename = \"/\".join(i.split(\"/\")[-2:])\n",
    "    \n",
    "    if not filename in all_test:\n",
    "        f_train.write(filename + \"\\n\")\n",
    "        print(filename)\n",
    "    else:\n",
    "        print(\"Not writing {}\".format(filename))\n",
    "    c += 1\n",
    "    \n",
    "f_train.close()"
   ]
  }
 ],
 "metadata": {
  "kernelspec": {
   "display_name": "Python 3",
   "language": "python",
   "name": "python3"
  },
  "language_info": {
   "codemirror_mode": {
    "name": "ipython",
    "version": 3
   },
   "file_extension": ".py",
   "mimetype": "text/x-python",
   "name": "python",
   "nbconvert_exporter": "python",
   "pygments_lexer": "ipython3",
   "version": "3.5.5"
  }
 },
 "nbformat": 4,
 "nbformat_minor": 2
}
